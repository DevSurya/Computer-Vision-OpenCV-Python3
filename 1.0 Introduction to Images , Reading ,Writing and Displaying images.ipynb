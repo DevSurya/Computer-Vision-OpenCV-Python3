{
 "cells": [
  {
   "cell_type": "markdown",
   "metadata": {},
   "source": [
    "# Introduction To Images \n",
    "Images are 2D representaion of visible light spectrum . \n",
    "Computer store images in the form of array. Each pixel point having 3 color intensity values , RGB which are 8 bit numbers varies from 0 to 255 . \n",
    "100 * 100 pixel images means array contain 100 rows and 100 columns.\n",
    "\n",
    "Computer vision aims to enable computers to understand what being seen in an images.\n",
    "Open CV :- 1999 , Open Source Computer Vision . Written in C++."
   ]
  },
  {
   "cell_type": "code",
   "execution_count": null,
   "metadata": {},
   "outputs": [],
   "source": [
    "import cv2\n",
    "import numpy as np\n",
    "# we can use np instead of numpy"
   ]
  },
  {
   "cell_type": "markdown",
   "metadata": {},
   "source": [
    "# Load Images"
   ]
  },
  {
   "cell_type": "code",
   "execution_count": null,
   "metadata": {},
   "outputs": [],
   "source": [
    "# imread use to read the image the specify file path\n",
    "\n",
    "input = cv2.imread('./images/surya.jpg')\n",
    "\n",
    "\n",
    "# imshow is used to display image variable.\n",
    "# 1st parameter will be the title shown in the image window.\n",
    "# 2nd parameter will be the image variable\n",
    "\n",
    "cv2.imshow('Hello World',input)\n",
    "\n",
    "\n",
    "# waitkey allows us to input information when a image window is open .\n",
    "# By passing no arugment it defines will continue once any key pressed. \n",
    "# how long the window is open . Time is in milisecond.\n",
    "\n",
    "cv2.waitKey(0)\n",
    "\n",
    "\n",
    "# This closed all open windows\n",
    "# Failure to place this will cause your program to hang\n",
    "\n",
    "cv2.destroyAllWindows()\n"
   ]
  },
  {
   "cell_type": "code",
   "execution_count": null,
   "metadata": {},
   "outputs": [],
   "source": [
    "# Shape gives the dimenssion on the image array .\n",
    "# The 2D dimenssion are 1316 in pixel hight and 1361 pixel width . And other 3 Componenet RGB that make up the image\n",
    "\n",
    "print(input.shape)"
   ]
  },
  {
   "cell_type": "code",
   "execution_count": null,
   "metadata": {},
   "outputs": [],
   "source": [
    "# Print all dimenssion of the image\n",
    "\n",
    "print('Height Of The Image:',int(input.shape[0]),'Pixels')\n",
    "print('Width Of The Image:',int(input.shape[1]),'Pixels')\n"
   ]
  },
  {
   "cell_type": "markdown",
   "metadata": {},
   "source": [
    "# Save Images"
   ]
  },
  {
   "cell_type": "code",
   "execution_count": null,
   "metadata": {},
   "outputs": [],
   "source": [
    "# imwrite use to save the image. Specify the file name and image to be saved\n",
    "\n",
    "cv2.imwrite('surya-edit.jpg',input) # change the file name\n",
    "cv2.imwrite('surya-edit.png',input) # change image format"
   ]
  },
  {
   "cell_type": "code",
   "execution_count": null,
   "metadata": {},
   "outputs": [],
   "source": []
  }
 ],
 "metadata": {
  "kernelspec": {
   "display_name": "Python 3",
   "language": "python",
   "name": "python3"
  },
  "language_info": {
   "codemirror_mode": {
    "name": "ipython",
    "version": 3
   },
   "file_extension": ".py",
   "mimetype": "text/x-python",
   "name": "python",
   "nbconvert_exporter": "python",
   "pygments_lexer": "ipython3",
   "version": "3.6.2"
  }
 },
 "nbformat": 4,
 "nbformat_minor": 2
}
