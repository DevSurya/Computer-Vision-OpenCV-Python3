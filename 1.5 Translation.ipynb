{
 "cells": [
  {
   "cell_type": "markdown",
   "metadata": {},
   "source": [
    "# Image manupulation\n",
    "\n",
    "## Transformation : gemoteric distortion enacted upon an image\n",
    "\n",
    "use : correct distortions or perspective issues ..\n",
    "types : Affine , Non-Affine\n",
    "\n",
    "\n",
    "- Affine : Scaling , Rotation, Translation :-where lines a re always parallel\n",
    "\n",
    "- Non affine : not parallel , Projective transformation and also called Homegraphy. colinarity and incidence always maintained"
   ]
  },
  {
   "cell_type": "markdown",
   "metadata": {},
   "source": [
    "# Translations\n",
    "\n",
    "This an affine transform that simply shifts the position of an image. This is basiscly moving an object in any direction , left , right , diagonally etc "
   ]
  },
  {
   "cell_type": "code",
   "execution_count": 4,
   "metadata": {},
   "outputs": [],
   "source": [
    "# Translation Matrix :\n",
    "\n",
    "#  T =  | 1 0 Tx |\n",
    "#       | 0 1 Ty |\n",
    "     \n",
    "# Tx : representation shift along x axis.\n",
    "# Ty : representation shift along y axis."
   ]
  },
  {
   "cell_type": "code",
   "execution_count": null,
   "metadata": {},
   "outputs": [],
   "source": [
    "import cv2\n",
    "import numpy as np\n",
    "\n",
    "image = cv2.imread('images/surya.jpg')\n",
    "\n",
    "# Store height and width of the image \n",
    "# taking only 1st two element of shape 2 array\n",
    "\n",
    "height, width = image.shape[:2]\n",
    "quarter_height, quarter_width = height/4, width/4\n",
    "\n",
    "T = np.float32([[1, 0, quarter_width], [0, 1,quarter_height]])\n",
    "\n",
    "# We use warpAffine to transform the image using the matrix, T\n",
    "img_translation = cv2.warpAffine(image, T, (width, height))\n",
    "cv2.imshow('Translation', img_translation)\n",
    "cv2.waitKey()\n",
    "cv2.destroyAllWindows()"
   ]
  },
  {
   "cell_type": "code",
   "execution_count": 9,
   "metadata": {},
   "outputs": [
    {
     "name": "stdout",
     "output_type": "stream",
     "text": [
      "[[   1.    0.  100.]\n",
      " [   0.    1.  100.]]\n"
     ]
    }
   ],
   "source": [
    "# Let's take a look at T\n",
    "\n",
    "print(T)"
   ]
  },
  {
   "cell_type": "code",
   "execution_count": null,
   "metadata": {},
   "outputs": [],
   "source": []
  }
 ],
 "metadata": {
  "kernelspec": {
   "display_name": "Python 3",
   "language": "python",
   "name": "python3"
  },
  "language_info": {
   "codemirror_mode": {
    "name": "ipython",
    "version": 3
   },
   "file_extension": ".py",
   "mimetype": "text/x-python",
   "name": "python",
   "nbconvert_exporter": "python",
   "pygments_lexer": "ipython3",
   "version": "3.6.2"
  }
 },
 "nbformat": 4,
 "nbformat_minor": 2
}
