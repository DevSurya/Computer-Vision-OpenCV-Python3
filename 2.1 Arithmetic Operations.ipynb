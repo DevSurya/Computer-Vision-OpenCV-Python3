{
 "cells": [
  {
   "cell_type": "markdown",
   "metadata": {},
   "source": [
    "# Arithmetic Operations"
   ]
  },
  {
   "cell_type": "markdown",
   "metadata": {},
   "source": [
    "These are the simple operation that allows us to add or substract to the color intensity. \n",
    "Calculate the pre element operation of two array. The overal effect is increasing or decreasing brightness."
   ]
  },
  {
   "cell_type": "code",
   "execution_count": 1,
   "metadata": {},
   "outputs": [],
   "source": [
    "import cv2\n",
    "import numpy as np"
   ]
  },
  {
   "cell_type": "code",
   "execution_count": null,
   "metadata": {},
   "outputs": [],
   "source": [
    "image = cv2.imread('images/surya.jpg')\n",
    "\n",
    "# Create a matrix of ones, then multiply it by a scaler of 100 \n",
    "# This gives a matrix with same dimesions of our image with all values being 100\n",
    "M = np.ones(image.shape, dtype = \"uint8\") * 75 \n",
    "# M\n",
    "\n",
    "# We use this to add this matrix M, to our image\n",
    "# Notice the increase in brightness\n",
    "added = cv2.add(image, M)\n",
    "cv2.imshow(\"Added\", added)\n",
    "\n",
    "# Likewise we can also subtract\n",
    "# Notice the decrease in brightness\n",
    "subtracted = cv2.subtract(image, M)\n",
    "cv2.imshow(\"Subtracted\", subtracted)\n",
    "\n",
    "cv2.waitKey(0)\n",
    "cv2.destroyAllWindows()"
   ]
  },
  {
   "cell_type": "code",
   "execution_count": 3,
   "metadata": {},
   "outputs": [
    {
     "data": {
      "text/plain": [
       "array([[[175, 175, 175],\n",
       "        [175, 175, 175],\n",
       "        [175, 175, 175],\n",
       "        ..., \n",
       "        [175, 175, 175],\n",
       "        [175, 175, 175],\n",
       "        [175, 175, 175]],\n",
       "\n",
       "       [[175, 175, 175],\n",
       "        [175, 175, 175],\n",
       "        [175, 175, 175],\n",
       "        ..., \n",
       "        [175, 175, 175],\n",
       "        [175, 175, 175],\n",
       "        [175, 175, 175]],\n",
       "\n",
       "       [[175, 175, 175],\n",
       "        [175, 175, 175],\n",
       "        [175, 175, 175],\n",
       "        ..., \n",
       "        [175, 175, 175],\n",
       "        [175, 175, 175],\n",
       "        [175, 175, 175]],\n",
       "\n",
       "       ..., \n",
       "       [[175, 175, 175],\n",
       "        [175, 175, 175],\n",
       "        [175, 175, 175],\n",
       "        ..., \n",
       "        [175, 175, 175],\n",
       "        [175, 175, 175],\n",
       "        [175, 175, 175]],\n",
       "\n",
       "       [[175, 175, 175],\n",
       "        [175, 175, 175],\n",
       "        [175, 175, 175],\n",
       "        ..., \n",
       "        [175, 175, 175],\n",
       "        [175, 175, 175],\n",
       "        [175, 175, 175]],\n",
       "\n",
       "       [[175, 175, 175],\n",
       "        [175, 175, 175],\n",
       "        [175, 175, 175],\n",
       "        ..., \n",
       "        [175, 175, 175],\n",
       "        [175, 175, 175],\n",
       "        [175, 175, 175]]], dtype=uint8)"
      ]
     },
     "execution_count": 3,
     "metadata": {},
     "output_type": "execute_result"
    }
   ],
   "source": []
  },
  {
   "cell_type": "code",
   "execution_count": null,
   "metadata": {},
   "outputs": [],
   "source": []
  }
 ],
 "metadata": {
  "kernelspec": {
   "display_name": "Python 3",
   "language": "python",
   "name": "python3"
  },
  "language_info": {
   "codemirror_mode": {
    "name": "ipython",
    "version": 3
   },
   "file_extension": ".py",
   "mimetype": "text/x-python",
   "name": "python",
   "nbconvert_exporter": "python",
   "pygments_lexer": "ipython3",
   "version": "3.6.2"
  }
 },
 "nbformat": 4,
 "nbformat_minor": 2
}
